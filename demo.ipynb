{
  "nbformat": 4,
  "nbformat_minor": 0,
  "metadata": {
    "colab": {
      "provenance": [],
      "collapsed_sections": [
        "UBbxnzXc3tr0"
      ]
    },
    "kernelspec": {
      "name": "python3",
      "display_name": "Python 3"
    },
    "language_info": {
      "name": "python"
    }
  },
  "cells": [
    {
      "cell_type": "markdown",
      "source": [
        "# Virtual Training Assitant demo\n",
        "\n",
        "This notebook contains a demo of our Virtual Training Assitant.\n",
        "\n",
        "The major part of the code presents our MVP: An exercise repetition counter with feedback using a reference video, based on the BlazePose 3D human pose estimator.\n",
        "\n",
        "At the end of the notebook, we have also attached the extra code that was not included in the final solution:\n",
        "* The alternative pose estimation using the YOLOv7 model (Does not work because of very high resource consumptions. If you use it, you will crash your Colab Runtime).\n",
        "* The exercise classifier: Our exercise classifier using an LSTM network. Due to the lack of data, this classifier has very low accuracy and is practically useless."
      ],
      "metadata": {
        "id": "EXqIFSdn2VXA"
      }
    },
    {
      "cell_type": "code",
      "source": [
        "# The library for using the BlazePose pose estimator\n",
        "!pip install mediapipe"
      ],
      "metadata": {
        "colab": {
          "base_uri": "https://localhost:8080/"
        },
        "id": "Odlh5tb_ryiM",
        "outputId": "54510b7b-35a8-476a-a071-5771775dcb65"
      },
      "execution_count": 1,
      "outputs": [
        {
          "output_type": "stream",
          "name": "stdout",
          "text": [
            "Looking in indexes: https://pypi.org/simple, https://us-python.pkg.dev/colab-wheels/public/simple/\n",
            "Requirement already satisfied: mediapipe in /usr/local/lib/python3.7/dist-packages (0.9.0)\n",
            "Requirement already satisfied: matplotlib in /usr/local/lib/python3.7/dist-packages (from mediapipe) (3.2.2)\n",
            "Requirement already satisfied: flatbuffers>=2.0 in /usr/local/lib/python3.7/dist-packages (from mediapipe) (22.11.23)\n",
            "Requirement already satisfied: attrs>=19.1.0 in /usr/local/lib/python3.7/dist-packages (from mediapipe) (22.1.0)\n",
            "Requirement already satisfied: absl-py in /usr/local/lib/python3.7/dist-packages (from mediapipe) (1.3.0)\n",
            "Requirement already satisfied: numpy in /usr/local/lib/python3.7/dist-packages (from mediapipe) (1.21.6)\n",
            "Requirement already satisfied: protobuf<4,>=3.11 in /usr/local/lib/python3.7/dist-packages (from mediapipe) (3.19.6)\n",
            "Requirement already satisfied: opencv-contrib-python in /usr/local/lib/python3.7/dist-packages (from mediapipe) (4.6.0.66)\n",
            "Requirement already satisfied: python-dateutil>=2.1 in /usr/local/lib/python3.7/dist-packages (from matplotlib->mediapipe) (2.8.2)\n",
            "Requirement already satisfied: pyparsing!=2.0.4,!=2.1.2,!=2.1.6,>=2.0.1 in /usr/local/lib/python3.7/dist-packages (from matplotlib->mediapipe) (3.0.9)\n",
            "Requirement already satisfied: kiwisolver>=1.0.1 in /usr/local/lib/python3.7/dist-packages (from matplotlib->mediapipe) (1.4.4)\n",
            "Requirement already satisfied: cycler>=0.10 in /usr/local/lib/python3.7/dist-packages (from matplotlib->mediapipe) (0.11.0)\n",
            "Requirement already satisfied: typing-extensions in /usr/local/lib/python3.7/dist-packages (from kiwisolver>=1.0.1->matplotlib->mediapipe) (4.1.1)\n",
            "Requirement already satisfied: six>=1.5 in /usr/local/lib/python3.7/dist-packages (from python-dateutil>=2.1->matplotlib->mediapipe) (1.15.0)\n"
          ]
        }
      ]
    },
    {
      "cell_type": "code",
      "source": [
        "import mediapipe as mp\n",
        "import numpy as np\n",
        "import cv2"
      ],
      "metadata": {
        "id": "C_xy8Vdj44Et"
      },
      "execution_count": 2,
      "outputs": []
    },
    {
      "cell_type": "markdown",
      "source": [
        "## Dataclasses for storing the pose keypoints\n",
        "\n",
        "We have a class for storing the Human Pose and calculating the joint angles, and one for aggregating the data from different frames to obtain a timeseries of angles."
      ],
      "metadata": {
        "id": "UBbxnzXc3tr0"
      }
    },
    {
      "cell_type": "code",
      "source": [
        "\"\"\"\n",
        "Dataclass that encompasses the keypoints of a human pose\n",
        "\"\"\"\n",
        "from dataclasses import dataclass\n",
        "from typing import List\n",
        "import numpy as np\n",
        "\n",
        "\n",
        "@dataclass\n",
        "class HumanPose:\n",
        "    # Generic version with just a list\n",
        "    raw_points: List\n",
        "    \n",
        "    left_shoulder: np.ndarray\n",
        "    right_shoulder: np.ndarray\n",
        "\n",
        "    left_elbow: np.ndarray\n",
        "    right_elbow: np.ndarray\n",
        "\n",
        "    left_wrist: np.ndarray\n",
        "    right_wrist: np.ndarray\n",
        "\n",
        "    left_hip: np.ndarray\n",
        "    right_hip: np.ndarray\n",
        "\n",
        "    left_knee: np.ndarray\n",
        "    right_knee: np.ndarray\n",
        "\n",
        "    left_ankle: np.ndarray\n",
        "    right_ankle: np.ndarray\n",
        "\n",
        "\n",
        "    def __init__(self, points: List[float] = None, **kwargs):\n",
        "        \"\"\"\n",
        "        Converts the list of points to an object (depends on the pose estimation algorithm)\n",
        "        \"\"\"\n",
        "        # The raw version\n",
        "        if points is not None:\n",
        "            self.raw_points = points\n",
        "\n",
        "        else:\n",
        "            self.right_elbow = kwargs[\"right_elbow\"]\n",
        "            self.right_wrist = kwargs[\"right_wrist\"]\n",
        "            self.right_shoulder = kwargs[\"right_shoulder\"]\n",
        "            self.right_hip = kwargs[\"right_hip\"]\n",
        "            self.right_knee = kwargs[\"right_knee\"]\n",
        "            self.right_ankle = kwargs[\"right_ankle\"]\n",
        "\n",
        "            self.left_elbow = kwargs[\"left_elbow\"]\n",
        "            self.left_wrist = kwargs[\"left_wrist\"]\n",
        "            self.left_shoulder = kwargs[\"left_shoulder\"]\n",
        "            self.left_hip = kwargs[\"left_hip\"]\n",
        "            self.left_knee = kwargs[\"left_knee\"]\n",
        "            self.left_ankle = kwargs[\"left_ankle\"]\n",
        "\n",
        "            self.right_elbow_visibility = kwargs.get(\"right_elbow_visibility\")\n",
        "            self.right_wrist_visibility = kwargs.get(\"right_wrist_visibility\")\n",
        "            self.right_shoulder_visibility = kwargs.get(\"right_shoulder_visibility\")\n",
        "            self.right_hip_visibility = kwargs.get(\"right_hip_visibility\")\n",
        "            self.right_knee_visibility = kwargs.get(\"right_knee_visibility\")\n",
        "            self.right_ankle_visibility = kwargs.get(\"right_ankle_visibility\")\n",
        "\n",
        "            self.left_elbow_visibility = kwargs.get(\"left_elbow_visibility\")\n",
        "            self.left_wrist_visibility = kwargs.get(\"left_wrist_visibility\")\n",
        "            self.left_shoulder_visibility = kwargs.get(\"left_shoulder_visibility\")\n",
        "            self.left_hip_visibility = kwargs.get(\"left_hip_visibility\")\n",
        "            self.left_knee_visibility = kwargs.get(\"left_knee_visibility\")\n",
        "            self.left_ankle_visibility = kwargs.get(\"left_ankle_visibility\")\n",
        "\n",
        "    # Bunch of utility functions\n",
        "    def _angle(self, first_point_name, middle_point_name, second_point_name) -> float:\n",
        "        \"\"\"\n",
        "        Calculates the angles formed by the given 3 keypoints\n",
        "\n",
        "        Returns:\n",
        "            - angle (float): The angle in radians\n",
        "        \"\"\"\n",
        "        # Get the vectors\n",
        "        x = self.__dict__[first_point_name][:2]- self.__dict__[middle_point_name][:2]\n",
        "        y = self.__dict__[second_point_name][:2] - self.__dict__[middle_point_name][:2]\n",
        "\n",
        "        \n",
        "        # Normalize the vectors\n",
        "        x /= np.linalg.norm(x)\n",
        "        y /= np.linalg.norm(y)\n",
        "\n",
        "        angle = np.arccos(np.clip(np.dot(x, y), -1.0, 1.0))\n",
        "        return angle\n",
        "\n",
        "    # TODO: Add more functions for specific angles\n",
        "    @property\n",
        "    def right_shoulder_angle(self):\n",
        "        return self._angle(\"right_elbow\", \"right_shoulder\", \"right_hip\")\n",
        "\n",
        "    @property\n",
        "    def left_shoulder_angle(self):\n",
        "        return self._angle(\"left_elbow\", \"left_shoulder\", \"left_hip\")\n",
        "\n",
        "    @property\n",
        "    def right_elbow_angle(self):\n",
        "        return self._angle(\"right_wrist\", \"right_elbow\", \"right_shoulder\")\n",
        "\n",
        "    @property\n",
        "    def left_elbow_angle(self):\n",
        "        return self._angle(\"left_wrist\", \"left_elbow\", \"left_shoulder\")\n",
        "\n",
        "    @property\n",
        "    def right_hip_angle(self):\n",
        "        return self._angle(\"right_shoulder\", \"right_hip\", \"right_knee\")\n",
        "\n",
        "    @property\n",
        "    def left_hip_angle(self):\n",
        "        return self._angle(\"left_shoulder\", \"left_hip\", \"left_knee\")\n",
        "\n",
        "    @property\n",
        "    def right_knee_angle(self):\n",
        "        return self._angle(\"right_hip\", \"right_knee\", \"right_ankle\")\n",
        "\n",
        "    @property\n",
        "    def left_knee_angle(self):\n",
        "        return self._angle(\"left_hip\", \"left_knee\", \"left_ankle\")\n",
        "\n",
        "    \n",
        "    # This is less useful when using 3D points    \n",
        "    def _distance(self, first_point_name, second_point_name):\n",
        "        x = self.__dict__[first_point_name]\n",
        "        y = self.__dict__[second_point_name]\n",
        "\n",
        "        return np.linalg.norm(x-y)"
      ],
      "metadata": {
        "id": "HuxppQb_4x4W"
      },
      "execution_count": 3,
      "outputs": []
    },
    {
      "cell_type": "code",
      "source": [
        "@dataclass\n",
        "class HumanPoseEvolution:\n",
        "    timeseries: List[HumanPose]\n",
        "\n",
        "    def __init__(self):\n",
        "        self.timeseries = []\n",
        "        self.timestamps = []\n",
        "\n",
        "        self.angles_cache = None\n",
        "\n",
        "        self.skip_first = 0\n",
        "\n",
        "    def add(self, timestamp: float, pose: HumanPose):\n",
        "        self.timeseries.append(pose)\n",
        "        self.timestamps.append(timestamp)\n",
        "\n",
        "    def right_elbow_angle_evolution(self):\n",
        "        result = []\n",
        "\n",
        "        for pose in self.timeseries:\n",
        "            result.append(pose.right_elbow_angle)\n",
        "\n",
        "        return zip(self.timestamps, result)\n",
        "\n",
        "    def get_all_angles(self):\n",
        "        # Check the cache to avoid recalculations\n",
        "        if self.angles_cache is not None:\n",
        "            return self.angles_cache\n",
        "\n",
        "        result = {\n",
        "            \"right_elbow_angle\": [],\n",
        "            \"left_elbow_angle\": [],\n",
        "            \"right_shoulder_angle\": [],\n",
        "            \"left_shoulder_angle\": [],\n",
        "            \"right_hip_angle\": [],\n",
        "            \"left_hip_angle\": [],\n",
        "            \"right_knee_angle\": [],\n",
        "            \"left_knee_angle\": [],\n",
        "        }\n",
        "\n",
        "        visibilities = {\n",
        "            \"right_elbow_angle\": [],\n",
        "            \"left_elbow_angle\": [],\n",
        "            \"right_shoulder_angle\": [],\n",
        "            \"left_shoulder_angle\": [],\n",
        "            \"right_hip_angle\": [],\n",
        "            \"left_hip_angle\": [],\n",
        "            \"right_knee_angle\": [],\n",
        "            \"left_knee_angle\": [],\n",
        "        }\n",
        "\n",
        "        for pose in self.timeseries[self.skip_first:]:\n",
        "            result[\"right_elbow_angle\"].append(pose.right_elbow_angle)\n",
        "            result[\"left_elbow_angle\"].append(pose.left_elbow_angle)\n",
        "            result[\"right_shoulder_angle\"].append(pose.right_shoulder_angle)\n",
        "            result[\"left_shoulder_angle\"].append(pose.left_shoulder_angle)\n",
        "            result[\"right_hip_angle\"].append(pose.right_hip_angle)\n",
        "            result[\"left_hip_angle\"].append(pose.left_hip_angle)\n",
        "            result[\"right_knee_angle\"].append(pose.right_knee_angle)\n",
        "            result[\"left_knee_angle\"].append(pose.left_knee_angle)\n",
        "\n",
        "        # ZIP all of the angles with the timestamps\n",
        "        for k, v in result.items():\n",
        "            result[k] = list(zip(self.timestamps[self.skip_first:], v))\n",
        "\n",
        "\n",
        "        self.angles_cache = result\n",
        "\n",
        "        return result"
      ],
      "metadata": {
        "id": "irCvniuPtMvn"
      },
      "execution_count": 4,
      "outputs": []
    },
    {
      "cell_type": "markdown",
      "source": [
        "## Mediapipe Pose Estimator\n",
        "\n",
        "The Pose estimator using the BlazePose model offered by the MediaPipe library"
      ],
      "metadata": {
        "id": "PBYpY7WhChji"
      }
    },
    {
      "cell_type": "code",
      "source": [
        "import abc\n",
        "\n",
        "\n",
        "class BaseEstimator(metaclass=abc.ABCMeta):\n",
        "    \"\"\"\n",
        "    Abstract class for a human pose estimator\n",
        "    \"\"\"\n",
        "\n",
        "    @classmethod\n",
        "    def __subclasshook__(cls, subclass):\n",
        "        \"\"\"\n",
        "        \n",
        "        \"\"\"\n",
        "        methods = [\n",
        "            'find_pose'\n",
        "        ]\n",
        "        for i in methods:\n",
        "            if not hasattr(subclass, i) or not callable(subclass.__dict__[i]):\n",
        "                return NotImplemented\n",
        "        return True\n",
        "\n",
        "    @abc.abstractmethod\n",
        "    def __init__(self, *args, **kwargs):\n",
        "        raise NotImplementedError\n",
        "\n",
        "    @abc.abstractmethod\n",
        "    def find_pose(self, image):\n",
        "        raise NotImplementedError"
      ],
      "metadata": {
        "id": "TjPSquiD41Lu"
      },
      "execution_count": 5,
      "outputs": []
    },
    {
      "cell_type": "code",
      "execution_count": 6,
      "metadata": {
        "id": "YVAFLqqsY5ai"
      },
      "outputs": [],
      "source": [
        "class MediaPipeEstimator(BaseEstimator):\n",
        "    \"\"\"\n",
        "    Human Pose estimator using the BlazePose model\n",
        "    \"\"\"\n",
        "    def __init__(self):\n",
        "        # The pose estimator object\n",
        "        self.pose = mp.solutions.pose.Pose()\n",
        "\n",
        "        # The drawing utility for drawing the keypoints onto frames\n",
        "        self.draw = mp.solutions.drawing_utils\n",
        "\n",
        "\n",
        "    def find_pose(self, image, draw=False) -> HumanPose:\n",
        "        \"\"\"\n",
        "        Args:\n",
        "          - image: Image to proces\n",
        "\n",
        "        Returns:\n",
        "          - HumanPose, Image: The keypoints of the human pose, with the processed image\n",
        "          If draw=True, the processed image will also have the keypoints drawn on it\n",
        "        \"\"\"\n",
        "        result = self.pose.process(image)\n",
        "\n",
        "        # In case we could not detect the pose\n",
        "        if not result.pose_landmarks:\n",
        "            return None, image\n",
        "\n",
        "        # Draw the keypoints\n",
        "        if draw:\n",
        "            self.draw.draw_landmarks(image, result.pose_landmarks, mp.solutions.pose.POSE_CONNECTIONS)\n",
        "\n",
        "            for ind, lm in enumerate(result.pose_landmarks.landmark):\n",
        "                h, w, c = image.shape\n",
        "                cx, cy =  int(lm.x*w), int(lm.y * h)\n",
        "                cv2.circle(image, (cx, cy), 5, (255, 0, 0), cv2.FILLED)\n",
        "\n",
        "\n",
        "        landmarks = list(result.pose_landmarks.landmark)\n",
        "        return HumanPose(\n",
        "            left_shoulder=self._landmark_to_coordinate(landmarks[11]),\n",
        "            right_shoulder=self._landmark_to_coordinate(landmarks[12]),\n",
        "            left_elbow=self._landmark_to_coordinate(landmarks[13]),\n",
        "            right_elbow=self._landmark_to_coordinate(landmarks[14]),\n",
        "            left_wrist=self._landmark_to_coordinate(landmarks[15]),\n",
        "            right_wrist=self._landmark_to_coordinate(landmarks[16]),\n",
        "            left_hip=self._landmark_to_coordinate(landmarks[23]),\n",
        "            right_hip=self._landmark_to_coordinate(landmarks[24]),\n",
        "            left_knee=self._landmark_to_coordinate(landmarks[25]),\n",
        "            right_knee=self._landmark_to_coordinate(landmarks[26]),\n",
        "            left_ankle=self._landmark_to_coordinate(landmarks[27]),\n",
        "            right_ankle=self._landmark_to_coordinate(landmarks[28]),\n",
        "\n",
        "            left_shoulder_visibility=self._landmark_visibility(landmarks[11]),\n",
        "            right_shoulder_visibility=self._landmark_visibility(landmarks[12]),\n",
        "            left_elbow_visibility=self._landmark_visibility(landmarks[13]),\n",
        "            right_elbow_visibility=self._landmark_visibility(landmarks[14]),\n",
        "            left_wrist_visibility=self._landmark_visibility(landmarks[15]),\n",
        "            right_wrist_visibility=self._landmark_visibility(landmarks[16]),\n",
        "            left_hip_visibility=self._landmark_visibility(landmarks[23]),\n",
        "            right_hip_visibility=self._landmark_visibility(landmarks[24]),\n",
        "            left_knee_visibility=self._landmark_visibility(landmarks[25]),\n",
        "            right_knee_visibility=self._landmark_visibility(landmarks[26]),\n",
        "            left_ankle_visibility=self._landmark_visibility(landmarks[27]),\n",
        "            right_ankle_visibility=self._landmark_visibility(landmarks[28])\n",
        "        ), image\n",
        "\n",
        "    @staticmethod\n",
        "    def _landmark_to_coordinate(landmark):\n",
        "        \"\"\"\n",
        "        Convert the landmarks to 3D vectors\n",
        "        \"\"\"\n",
        "        return np.array([\n",
        "            landmark.x,\n",
        "            landmark.y,\n",
        "            landmark.z\n",
        "        ])\n",
        "\n",
        "    @staticmethod\n",
        "    def _landmark_visibility(landmark):\n",
        "        return landmark.visibility\n"
      ]
    },
    {
      "cell_type": "markdown",
      "source": [
        "## Rep Counter\n",
        "\n",
        "The implementation of our repetition counting algorithm"
      ],
      "metadata": {
        "id": "8T4lbdDz4_th"
      }
    },
    {
      "cell_type": "code",
      "source": [
        "from scipy.signal import argrelextrema\n",
        "\n",
        "def running_mean(x, N):\n",
        "    \"\"\"\n",
        "    Apply a moving average filter to x with window size N\n",
        "    \"\"\"\n",
        "    return np.convolve(x, np.ones(N)/N, mode='valid')\n",
        "\n",
        "class RepCounter:\n",
        "    def __init__(self, evolution: HumanPoseEvolution):\n",
        "        self.evolution = evolution\n",
        "\n",
        "    def _count_single_angle_reps(self, sorted_extrema, min_range, max_range, min_rep_duration=1):\n",
        "        \"\"\"\n",
        "        Given the extrema of the angle, the accepted range and minimum duration, \n",
        "        this function calculates the number of reps\n",
        "        \"\"\"\n",
        "\n",
        "        # Calculate the valid extrema (extrema that cross the range thresholds)\n",
        "        valid_extrema = sorted_extrema[:1]\n",
        "\n",
        "        minima = None\n",
        "        for timestamp, value in sorted_extrema[1:-1]:\n",
        "            if minima is None:\n",
        "                if value <= min_range:\n",
        "                    minima = True\n",
        "                    valid_extrema.append((timestamp, value))\n",
        "                elif value >= max_range:\n",
        "                    minima = False\n",
        "                    valid_extrema.append((timestamp, value))\n",
        "                continue\n",
        "\n",
        "            if minima is True and value >= max_range:\n",
        "                valid_extrema.append((timestamp, value))\n",
        "                minima = False\n",
        "\n",
        "            if minima is False and value <= min_range:\n",
        "                valid_extrema.append((timestamp, value))\n",
        "                minima = True\n",
        "\n",
        "        valid_extrema.append(sorted_extrema[-1])\n",
        "\n",
        "        # Count the reps\n",
        "        # One rep is counted whenever the signal crosses the thresholds twice (one in each direction)\n",
        "        reps = []\n",
        "        counted = False\n",
        "        for ind, (timestamp, value) in enumerate(valid_extrema):\n",
        "            if ind + 2 >= len(valid_extrema):\n",
        "                break\n",
        "\n",
        "            if counted:\n",
        "                counted = False\n",
        "                continue\n",
        "            \n",
        "            reps.append(valid_extrema[ind+2][0] - timestamp)\n",
        "            counted = True\n",
        "\n",
        "        if len(reps) == 0:\n",
        "            return valid_extrema, 0\n",
        "\n",
        "        # Filter the reps by their duration\n",
        "        average_length = sum(reps)/len(reps)\n",
        "\n",
        "        # Exclude reps that are too short\n",
        "        rep_count = len(list(filter(lambda x: x > 0.75*average_length, reps)))\n",
        "\n",
        "        new_average_length = sum(reps)/len(reps)\n",
        "\n",
        "        return valid_extrema, rep_count, new_average_length\n",
        "\n",
        "    \n",
        "\n",
        "    def _process_angle(self, timeseries):\n",
        "        \"\"\"\n",
        "        Processes the signal and calculates the reps\n",
        "        \"\"\"\n",
        "\n",
        "        timestamps, values = zip(*timeseries)\n",
        "        values = np.array(values)\n",
        "\n",
        "        # Apply MA filter\n",
        "        sampling_rate = 1/(timestamps[1] - timestamps[0])\n",
        "\n",
        "        ma_window = int(sampling_rate*0.5)\n",
        "\n",
        "        values = running_mean(values, ma_window)\n",
        "\n",
        "\n",
        "        # Find the local extrema of the timeseries\n",
        "        maxima = argrelextrema(values, np.greater)[0]\n",
        "        minima = argrelextrema(values, np.less)[0]\n",
        "\n",
        "\n",
        "        # Calculate the absolute angle range\n",
        "        absolute_max = np.max(values)\n",
        "        absolute_min = np.min(values)\n",
        "\n",
        "        angle_range = absolute_max - absolute_min\n",
        "\n",
        "        # Don't count this joint angle if the range is too small\n",
        "        if angle_range < 0.5:\n",
        "            return [], angle_range, 0, list(zip(timestamps, values.tolist())), 0\n",
        "        \n",
        "        \n",
        "\n",
        "        extrema = []\n",
        "        for x in maxima:\n",
        "            extrema.append([timestamps[x], values[x]])\n",
        "\n",
        "        for x in minima:\n",
        "            extrema.append([timestamps[x], values[x]])\n",
        "\n",
        "        # Add the start and end points to the extrema\n",
        "        extrema.append([timestamps[-1], values[-1]])\n",
        "        extrema.append([timestamps[0], values[0]])\n",
        "\n",
        "\n",
        "        sorted_extrema = sorted(extrema, key=lambda x: x[0])\n",
        "\n",
        "        # Get the rep information\n",
        "        valid_extrema, reps, average_length = self._count_single_angle_reps(\n",
        "                                sorted_extrema, \n",
        "                                absolute_min + 0.3*(angle_range), \n",
        "                                absolute_max - 0.3*(angle_range))\n",
        "\n",
        "        return valid_extrema, angle_range, reps, list(zip(timestamps, values.tolist())), average_length\n",
        "\n",
        "    def count_reps(self):\n",
        "        \"\"\"\n",
        "        Counts the reps using all the angle timeseries\n",
        "        \"\"\"\n",
        "        angles = self.evolution.get_all_angles()\n",
        "\n",
        "        # The smoothed timeseries after the MA filter\n",
        "        smoothed_results = {}\n",
        "\n",
        "        # The extrema for each timeseries\n",
        "        angle_extrema = {}\n",
        "\n",
        "        # The potential rep counts with their occurences\n",
        "        potential_rep_counts = {}\n",
        "\n",
        "        # The angle ranges\n",
        "        range_information = {}\n",
        "\n",
        "        # The potential rep values\n",
        "        reps_values = []\n",
        "\n",
        "        for name, timeseries in angles.items():\n",
        "            extrema, range, reps, smoothed, rep_length = self._process_angle(timeseries)\n",
        "\n",
        "\n",
        "            if reps:\n",
        "                reps_values.append(reps)\n",
        "\n",
        "            smoothed_results[name] = smoothed\n",
        "            if len(extrema):\n",
        "                angle_extrema[name] = extrema\n",
        "\n",
        "            if reps not in potential_rep_counts:\n",
        "              potential_rep_counts[reps] = {\n",
        "                  \"score\": 0,\n",
        "                  \"count\": 0,\n",
        "                  \"length\": 0 \n",
        "              }\n",
        "\n",
        "            potential_rep_counts[reps][\"score\"] += range\n",
        "            potential_rep_counts[reps][\"count\"] += 1\n",
        "            potential_rep_counts[reps][\"length\"] += rep_length\n",
        "\n",
        "            range_information[name] = range\n",
        "\n",
        "        # Calculate the score for each potential rep value\n",
        "        rep_scores = {}\n",
        "\n",
        "        for k, v in potential_rep_counts.items():\n",
        "          rep_scores[k] = v[\"score\"]/v[\"count\"]\n",
        "\n",
        "\n",
        "        # Calculate the final rep prediction (maximum using the given scores)\n",
        "        result = list(rep_scores.keys())[0]\n",
        "        for k, v in rep_scores.items():\n",
        "          if v > rep_scores[result]:\n",
        "            result = k\n",
        "            \n",
        "        average_rep_length = potential_rep_counts[result][\"length\"]/potential_rep_counts[result][\"count\"]\n",
        "\n",
        "        return smoothed_results, angle_extrema, result, average_rep_length, range_information\n"
      ],
      "metadata": {
        "id": "-KziQ7eK5DAO"
      },
      "execution_count": 7,
      "outputs": []
    },
    {
      "cell_type": "markdown",
      "source": [
        "## Finding the pose from a video\n",
        "\n",
        "Calculating the pose for an entire video"
      ],
      "metadata": {
        "id": "OPgfPJAX9vSq"
      }
    },
    {
      "cell_type": "code",
      "source": [
        "# Library for saving video files\n",
        "!pip install sk-video"
      ],
      "metadata": {
        "colab": {
          "base_uri": "https://localhost:8080/"
        },
        "id": "GBoErn0--TMH",
        "outputId": "977cb26b-07e0-4479-d5f0-d331d294c1d8"
      },
      "execution_count": 8,
      "outputs": [
        {
          "output_type": "stream",
          "name": "stdout",
          "text": [
            "Looking in indexes: https://pypi.org/simple, https://us-python.pkg.dev/colab-wheels/public/simple/\n",
            "Requirement already satisfied: sk-video in /usr/local/lib/python3.7/dist-packages (1.1.10)\n",
            "Requirement already satisfied: numpy in /usr/local/lib/python3.7/dist-packages (from sk-video) (1.21.6)\n",
            "Requirement already satisfied: scipy in /usr/local/lib/python3.7/dist-packages (from sk-video) (1.7.3)\n"
          ]
        }
      ]
    },
    {
      "cell_type": "code",
      "source": [
        "import cv2\n",
        "\n",
        "from datetime import datetime\n",
        "import matplotlib.pyplot as plt\n",
        "import time\n",
        "\n",
        "\n",
        "import skvideo.io\n",
        "import numpy as np\n",
        "\n",
        "\n",
        "def video_to_human_pose_evolution(video_path, model=\"blaze_pose\", save_video=True):\n",
        "    \"\"\"\n",
        "    Calculates the pose from a given video (video path)\n",
        "\n",
        "    Also saves a video with the detected pose keypoints by default\n",
        "\n",
        "    Return a HumanPoseEvolution object\n",
        "    \"\"\"\n",
        "    estimator = None\n",
        "    if model == \"blaze_pose\":\n",
        "        estimator = MediaPipeEstimator()\n",
        "    elif model == \"yolo\":\n",
        "        estimator = YOLOEstimator()\n",
        "    else:\n",
        "        raise ValueError(\"The pose model should be either 'blaze_pose' or 'yolo'\")\n",
        "\n",
        "    evolution = HumanPoseEvolution()\n",
        "\n",
        "    cap = cv2.VideoCapture(video_path)\n",
        "\n",
        "    # This part is for saving the video\n",
        "    if save_video:\n",
        "      video_save_path = f\"video_pose_{model}.mp4\"\n",
        "      fps = 30\n",
        "      vwriter = skvideo.io.FFmpegWriter(video_save_path, \n",
        "                          inputdict={'-r': str(fps)},\n",
        "                          outputdict={'-r': str(fps), '-c:v': 'libx264', '-preset': 'ultrafast', '-pix_fmt': 'yuv444p'})\n",
        "\n",
        "    while True:\n",
        "        success, img = cap.read()\n",
        "        if not success:\n",
        "            continue\n",
        "        img_rgb = cv2.cvtColor(img, cv2.COLOR_BGR2RGB)\n",
        "\n",
        "        results, img_rgb = estimator.find_pose(img_rgb, draw=True)\n",
        "\n",
        "        if save_video:\n",
        "          vwriter.writeFrame(img_rgb)\n",
        "\n",
        "        if results is not None:\n",
        "            timestamp = cap.get(cv2.CAP_PROP_POS_MSEC)/1000\n",
        "            if timestamp != 0:\n",
        "                evolution.add(timestamp, results)\n",
        "\n",
        "\n",
        "        if cv2.waitKey(1) == 27:\n",
        "            break\n",
        "        if cap.get(cv2.CAP_PROP_POS_FRAMES) == cap.get(cv2.CAP_PROP_FRAME_COUNT):\n",
        "            # If the number of captured frames is equal to the total number of frames,\n",
        "            # we stop\n",
        "            break\n",
        "\n",
        "    cap.release()\n",
        "    cv2.destroyAllWindows() # destroy all opened windows\n",
        "\n",
        "    # Saving pose video\n",
        "    if save_video:\n",
        "      vwriter.close()\n",
        "    return evolution"
      ],
      "metadata": {
        "id": "oP1uXYIb91Ix"
      },
      "execution_count": 9,
      "outputs": []
    },
    {
      "cell_type": "markdown",
      "source": [
        "## Results\n",
        "\n",
        "Here we test the code using video files"
      ],
      "metadata": {
        "id": "hkCYWzcF5Glv"
      }
    },
    {
      "cell_type": "code",
      "source": [
        "# !gdown https://drive.google.com/file/d/1Vbkk33ml98vP89uHiqZFA2NR7W0gNbN9/view?usp=sharing\n",
        "# Deadlift videos with reference\n",
        "\n",
        "!gdown https://drive.google.com/uc?id=1NsKyX40QHR8EMIvtHfezvwSvyTMLd-RT\n",
        "!gdown https://drive.google.com/uc?id=12ir8kRTu6AzbWCHUSLMTMvvYFFHQXmnK\n",
        "#  Reference\n",
        "!gdown https://drive.google.com/uc?id=1jcty1KpKBthGzrCFd2lxKWm2W4AJ5NG7\n",
        "\n",
        "# Incline bench press videos\n",
        "!gdown https://drive.google.com/uc?id=1aSbl7-KNxbLAE6KYOrDudlQ6tSg2qHQL\n",
        "# ref\n",
        "!gdown https://drive.google.com/uc?id=1vtPc1VX0KwyxRJl_8GhkLmOxpd5YaO0S"
      ],
      "metadata": {
        "colab": {
          "base_uri": "https://localhost:8080/"
        },
        "id": "UBmax-Qj-ZgC",
        "outputId": "2ff18c8d-4a89-4b8f-d888-98a9168e71fb"
      },
      "execution_count": 10,
      "outputs": [
        {
          "output_type": "stream",
          "name": "stdout",
          "text": [
            "Downloading...\n",
            "From: https://drive.google.com/uc?id=1NsKyX40QHR8EMIvtHfezvwSvyTMLd-RT\n",
            "To: /content/deadlift_3.mp4\n",
            "100% 1.69M/1.69M [00:00<00:00, 146MB/s]\n",
            "Downloading...\n",
            "From: https://drive.google.com/uc?id=12ir8kRTu6AzbWCHUSLMTMvvYFFHQXmnK\n",
            "To: /content/deadlift_2.mp4\n",
            "100% 3.51M/3.51M [00:00<00:00, 202MB/s]\n",
            "Downloading...\n",
            "From: https://drive.google.com/uc?id=1jcty1KpKBthGzrCFd2lxKWm2W4AJ5NG7\n",
            "To: /content/deadlift_reference.mp4\n",
            "100% 1.03M/1.03M [00:00<00:00, 105MB/s]\n",
            "Downloading...\n",
            "From: https://drive.google.com/uc?id=1aSbl7-KNxbLAE6KYOrDudlQ6tSg2qHQL\n",
            "To: /content/incline_bp.mp4\n",
            "100% 7.70M/7.70M [00:00<00:00, 159MB/s]\n",
            "Downloading...\n",
            "From: https://drive.google.com/uc?id=1vtPc1VX0KwyxRJl_8GhkLmOxpd5YaO0S\n",
            "To: /content/incline_bp_reference.mp4\n",
            "100% 176k/176k [00:00<00:00, 83.6MB/s]\n"
          ]
        }
      ]
    },
    {
      "cell_type": "code",
      "source": [
        "video_path = \"./incline_bp.mp4\"\n",
        "reference_video_path = \"./incline_bp_reference.mp4\""
      ],
      "metadata": {
        "id": "fSwHLna07j48"
      },
      "execution_count": 11,
      "outputs": []
    },
    {
      "cell_type": "code",
      "source": [
        "# Calculate reps from the pose of video\n",
        "evolution = video_to_human_pose_evolution(video_path)\n",
        "\n",
        "timeseries = evolution.right_elbow_angle_evolution()\n",
        "all_timeseries = evolution.get_all_angles()\n",
        "counter = RepCounter(evolution)\n",
        "\n",
        "all_timeseries, all_extrema, reps, length, range_info = counter.count_reps()\n",
        "\n",
        "print(f\"You did {reps} reps with an average rep duration of {length:.2f} seconds\")\n",
        "\n",
        "\n",
        "# Evaluating the exercise speed using a reference video\n",
        "reference_evolution = video_to_human_pose_evolution(reference_video_path, save_video=False)\n",
        "\n",
        "counter = RepCounter(reference_evolution)\n",
        "\n",
        "_, _, _, reference_length, reference_range_info = counter.count_reps()\n",
        "\n",
        "length_diff_percentage = 100*(abs(length - reference_length)/reference_length)\n",
        "\n",
        "feedback = f\"\"\"\n",
        "FEEDBACK:\n",
        "- On average, your reps were {length_diff_percentage:.2f}% {'slower' if length > reference_length else 'faster'} then the reference exercise video.\n",
        "\"\"\"\n",
        "print(feedback)"
      ],
      "metadata": {
        "colab": {
          "base_uri": "https://localhost:8080/"
        },
        "id": "HsbrHuPO-AQ_",
        "outputId": "63ff66d8-9d1e-41e1-93b8-a42cf6daa0bb"
      },
      "execution_count": 12,
      "outputs": [
        {
          "output_type": "stream",
          "name": "stdout",
          "text": [
            "You did 4 reps with an average rep duration of 2.20 seconds\n",
            "\n",
            "FEEDBACK:\n",
            "- On average, your reps were 78.52% slower then the reference exercise video.\n",
            "\n"
          ]
        }
      ]
    },
    {
      "cell_type": "code",
      "source": [
        "# Plotting the angles evolution with their extrema\n",
        "\n",
        "for k, v in all_timeseries.items():\n",
        "    plt.plot(*list(zip(*v)))\n",
        "    if k in all_extrema:\n",
        "        plt.scatter(*list(zip(*all_extrema[k])))\n",
        "\n",
        "plt.show()"
      ],
      "metadata": {
        "colab": {
          "base_uri": "https://localhost:8080/",
          "height": 265
        },
        "id": "b0t-eZ1v8RN8",
        "outputId": "0f73e68c-0ccd-4f10-e04f-09b5aa1befea"
      },
      "execution_count": 13,
      "outputs": [
        {
          "output_type": "display_data",
          "data": {
            "text/plain": [
              "<Figure size 432x288 with 1 Axes>"
            ],
            "image/png": "[encoded data removed]"
          },
          "metadata": {
            "needs_background": "light"
          }
        }
      ]
    },
    {
      "cell_type": "markdown",
      "source": [
        "## Exercise classifier\n",
        "\n",
        "Code for loading our exercise classifier, this is just a showcase of our work on the classifier. Do not expect this to predict the exercise correctly!"
      ],
      "metadata": {
        "id": "-58yN6hDLTt-"
      }
    },
    {
      "cell_type": "code",
      "source": [
        "!gdown https://drive.google.com/uc?id=1U7_gwzcLJsVnxAeQVXHfO7F8OHqpfiYV"
      ],
      "metadata": {
        "colab": {
          "base_uri": "https://localhost:8080/"
        },
        "id": "lJpNl037CIWD",
        "outputId": "3f7e41ed-fb7f-4e04-a9eb-0f7a8c71deb9"
      },
      "execution_count": 14,
      "outputs": [
        {
          "output_type": "stream",
          "name": "stdout",
          "text": [
            "Downloading...\n",
            "From: https://drive.google.com/uc?id=1U7_gwzcLJsVnxAeQVXHfO7F8OHqpfiYV\n",
            "To: /content/exercise_classifier.pt\n",
            "\r  0% 0.00/6.69k [00:00<?, ?B/s]\r100% 6.69k/6.69k [00:00<00:00, 8.66MB/s]\n"
          ]
        }
      ]
    },
    {
      "cell_type": "code",
      "source": [
        "import torch\n",
        "from torch import nn\n",
        "from torch.autograd import Variable \n",
        "\n",
        "NUM_CLASSES = 6\n",
        "\n",
        "class VideoExerciseClassifier(nn.Module):\n",
        "  def __init__(self):\n",
        "    super().__init__()\n",
        "\n",
        "    self.num_layers = 2\n",
        "\n",
        "    self.hidden_size = 8\n",
        "    self.input_size = 50\n",
        "\n",
        "    self.relu = nn.ReLU()\n",
        "\n",
        "    self.lstm = nn.LSTM(8, 8, num_layers=2, batch_first=True)\n",
        "    self.dense = nn.Linear(self.hidden_size, NUM_CLASSES)\n",
        "\n",
        "\n",
        "  def forward(self,x):\n",
        "    h_0 = Variable(torch.zeros(self.num_layers, x.size(0), self.hidden_size)) #hidden state\n",
        "    c_0 = Variable(torch.zeros(self.num_layers, x.size(0), self.hidden_size)) #internal state\n",
        "    # Propagate input through LSTM\n",
        "    output, (hn, cn) = self.lstm(x, (h_0, c_0)) #lstm with input, hidden, and internal state\n",
        "    out = self.relu(hn[-1])\n",
        "    out = self.dense(out) #first Dense\n",
        "    return out\n",
        "  \n",
        "\n",
        "model = VideoExerciseClassifier()\n",
        "model.load_state_dict(torch.load(\"./exercise_classifier.pt\", map_location=torch.device('cpu')))\n",
        "model.eval()\n",
        "\n",
        "\n",
        "def predict_exercise(all_timeseries):\n",
        "    sequence = []\n",
        "    try:\n",
        "      for i in range(50):\n",
        "          vec = []\n",
        "\n",
        "          for k, v, in all_timeseries.items():\n",
        "              vec.append(v[i][1])\n",
        "\n",
        "          sequence.append(vec)\n",
        "\n",
        "    except IndexError:\n",
        "       return \"Unknown exercise (not enough frames to predict)\"\n",
        "       \n",
        "    model_input = torch.unsqueeze(torch.tensor(sequence), 0)\n",
        "\n",
        "    print(model_input.size())\n",
        "\n",
        "    output = model(model_input)\n",
        "\n",
        "    probs = nn.functional.softmax(output, dim=1)\n",
        "\n",
        "    pred = torch.argmax(probs, dim=1)\n",
        "\n",
        "\n",
        "    idx_to_labels = {0: 'Deadlift', 1: 'Biceps curl', 2: 'Push-up', 3: 'Tricep Pushdown', 4: 'Lat pulldown', 5: 'Incline bench press'}\n",
        "\n",
        "    return idx_to_labels[pred[0].item()]\n",
        "\n",
        "\n"
      ],
      "metadata": {
        "id": "Uy8DZDtPLhfL"
      },
      "execution_count": 15,
      "outputs": []
    },
    {
      "cell_type": "code",
      "source": [
        "evolution = video_to_human_pose_evolution(video_path)\n",
        "\n",
        "timeseries = evolution.right_elbow_angle_evolution()\n",
        "all_timeseries = evolution.get_all_angles()\n",
        "counter = RepCounter(evolution)\n",
        "\n",
        "all_timeseries, all_extrema, reps, length, range_info = counter.count_reps()\n",
        "\n",
        "\n",
        "exercise_name = predict_exercise(all_timeseries)\n",
        "\n",
        "print(\"Detected exercise: \" + exercise_name)"
      ],
      "metadata": {
        "colab": {
          "base_uri": "https://localhost:8080/"
        },
        "id": "etd5WrTb73SV",
        "outputId": "f4e75b52-e1ec-470b-d73f-3ccb07eb7ea3"
      },
      "execution_count": 16,
      "outputs": [
        {
          "output_type": "stream",
          "name": "stdout",
          "text": [
            "torch.Size([1, 50, 8])\n",
            "Detected exercise: Push-up\n"
          ]
        }
      ]
    },
    {
      "cell_type": "markdown",
      "source": [
        "## YOLOv7 estimator"
      ],
      "metadata": {
        "id": "F7CBfddSCvBC"
      }
    },
    {
      "cell_type": "code",
      "source": [
        "! git clone https://github.com/WongKinYiu/yolov7.git"
      ],
      "metadata": {
        "colab": {
          "base_uri": "https://localhost:8080/"
        },
        "id": "NVxomeQgDCvk",
        "outputId": "c30b4181-1742-49b0-c6f4-696ee09ebb2b"
      },
      "execution_count": 17,
      "outputs": [
        {
          "output_type": "stream",
          "name": "stdout",
          "text": [
            "fatal: destination path 'yolov7' already exists and is not an empty directory.\n"
          ]
        }
      ]
    },
    {
      "cell_type": "code",
      "source": [
        "! curl -L https://github.com/WongKinYiu/yolov7/releases/download/v0.1/yolov7-w6-pose.pt -o yolov7/yolov7-w6-pose.pt"
      ],
      "metadata": {
        "colab": {
          "base_uri": "https://localhost:8080/"
        },
        "id": "30VAthJrDTJA",
        "outputId": "d4491c05-2e1f-4be4-a9d9-bb4d793f10ad"
      },
      "execution_count": 18,
      "outputs": [
        {
          "output_type": "stream",
          "name": "stdout",
          "text": [
            "  % Total    % Received % Xferd  Average Speed   Time    Time     Time  Current\n",
            "                                 Dload  Upload   Total   Spent    Left  Speed\n",
            "  0     0    0     0    0     0      0      0 --:--:-- --:--:-- --:--:--     0\n",
            "100  153M  100  153M    0     0  59.9M      0  0:00:02  0:00:02 --:--:-- 62.4M\n"
          ]
        }
      ]
    },
    {
      "cell_type": "code",
      "source": [
        "import torch\n",
        "from torchvision import transforms\n",
        "import sys\n",
        "import os\n",
        "import gc\n",
        "\n",
        "sys.path.insert(0, os.path.abspath('yolov7'))\n",
        "\n",
        "from utils.datasets import letterbox\n",
        "from utils.general import non_max_suppression_kpt\n",
        "from utils.plots import output_to_keypoint, plot_skeleton_kpts\n",
        "\n",
        "import matplotlib.pyplot as plt\n",
        "import cv2\n",
        "import numpy as np\n",
        "\n",
        "model_path ='yolov7/yolov7-w6-pose.pt'\n",
        "\n",
        "def load_model():\n",
        "    device = torch.device(\"cpu\")\n",
        "    model = torch.load(model_path, map_location=device)['model']\n",
        "    # Put in inference mode\n",
        "    model.float().eval()\n",
        "\n",
        "    return model\n",
        "\n",
        "model = load_model()\n",
        "\n",
        "def run_inference(image):\n",
        "    # Resize and pad image\n",
        "    image = letterbox(image, 960, stride=64, auto=True)[0] # shape: (768, 960, 3)\n",
        "    # Apply transforms\n",
        "    image = transforms.ToTensor()(image) # torch.Size([3, 768, 960])\n",
        "    # Turn image into batch\n",
        "    image = image.unsqueeze(0) # torch.Size([1, 3, 768, 960])\n",
        "    output, _ = model(image) # torch.Size([1, 45900, 57])\n",
        "    return output, image\n",
        "\n",
        "\n",
        "nc=model.yaml['nc'] # Number of Classes\n",
        "nkpt=model.yaml['nkpt']\n",
        "\n",
        "\n",
        "def visualize_output(output, image, draw=True):\n",
        "    print(\"Processing frame ...\")\n",
        "    output = non_max_suppression_kpt(output, \n",
        "                                     0.25, # Confidence Threshold\n",
        "                                     0.65, # IoU Threshold\n",
        "                                     nc=nc, # Number of Classes\n",
        "                                     nkpt=nkpt, # Number of Keypoints\n",
        "                                     kpt_label=True)\n",
        "    \n",
        "    with torch.no_grad():\n",
        "        output = output_to_keypoint(output)\n",
        "\n",
        "    # TODO: Solve this issue\n",
        "    nimg = image[0].permute(1, 2, 0) * 255\n",
        "    nimg = nimg.cpu().numpy().astype(np.uint8)\n",
        "    nimg = cv2.cvtColor(nimg, cv2.COLOR_RGB2BGR)\n",
        "CV_demo(3)\n",
        "    if draw:\n",
        "        for idx in range(output.shape[0]):\n",
        "            plot_skeleton_kpts(nimg, output[idx, 7:].T, 3)\n",
        "    \n",
        "    nimg = cv2.cvtColor(nimg, cv2.COLOR_BGR2RGB)\n",
        "    \n",
        "    # We just take the first detected person here\n",
        "    return output[0, 7:].T, nimg\n"
      ],
      "metadata": {
        "id": "mrSewXQgC_aY"
      },
      "execution_count": 19,
      "outputs": []
    },
    {
      "cell_type": "code",
      "source": [
        "class YOLOEstimator(BaseEstimator):\n",
        "    def __init__(self):\n",
        "\n",
        "        pass\n",
        "\n",
        "\n",
        "    def find_pose(self, image, draw=False) -> HumanPose:\n",
        "        \n",
        "        output, image = run_inference(image) # Bryan Reyes on Unsplash\n",
        "        result, image = visualize_output(output, image, draw=draw)\n",
        "\n",
        "\n",
        "        landmarks = []\n",
        "\n",
        "        for i in range(17):\n",
        "            landmarks.append(result[i*3:(i+1)*3])\n",
        "\n",
        "\n",
        "        return HumanPose(\n",
        "            left_shoulder=self._landmark_to_coordinate(landmarks[5]),\n",
        "            right_shoulder=self._landmark_to_coordinate(landmarks[2]),\n",
        "            left_elbow=self._landmark_to_coordinate(landmarks[3]),\n",
        "            right_elbow=self._landmark_to_coordinate(landmarks[6]),\n",
        "            left_wrist=self._landmark_to_coordinate(landmarks[4]),\n",
        "            right_wrist=self._landmark_to_coordinate(landmarks[7]),\n",
        "            left_hip=self._landmark_to_coordinate(landmarks[11]),\n",
        "            right_hip=self._landmark_to_coordinate(landmarks[8]),\n",
        "            left_knee=self._landmark_to_coordinate(landmarks[12]),\n",
        "            right_knee=self._landmark_to_coordinate(landmarks[9]),\n",
        "            left_ankle=self._landmark_to_coordinate(landmarks[13]),\n",
        "            right_ankle=self._landmark_to_coordinate(landmarks[10])\n",
        "        ), image\n",
        "\n",
        "    @staticmethod\n",
        "    def _landmark_to_coordinate(landmark):\n",
        "        return np.array([\n",
        "            landmark\n",
        "        ])\n",
        "\n",
        "    @staticmethod\n",
        "    def _landmark_visibility(landmark):\n",
        "        return landmark.visibility\n",
        "\n",
        " "
      ],
      "metadata": {
        "id": "zSSDI-iHCm8D"
      },
      "execution_count": 20,
      "outputs": []
    },
    {
      "cell_type": "code",
      "source": [
        "# WARNING: This will crash your runtime\n",
        "\n",
        "# Calculate reps from the pose of video\n",
        "evolution = video_to_human_pose_evolution(video_path, model=\"yolo\")"
      ],
      "metadata": {
        "colab": {
          "base_uri": "https://localhost:8080/"
        },
        "id": "1X7BwUWy8fUw",
        "outputId": "e0b84ea9-d762-4eb9-bb04-c38a5ea174e1"
      },
      "execution_count": null,
      "outputs": [
        {
          "output_type": "stream",
          "name": "stderr",
          "text": [
            "/usr/local/lib/python3.7/dist-packages/torch/functional.py:478: UserWarning: torch.meshgrid: in an upcoming release, it will be required to pass the indexing argument. (Triggered internally at  ../aten/src/ATen/native/TensorShape.cpp:2894.)\n",
            "  return _VF.meshgrid(tensors, **kwargs)  # type: ignore[attr-defined]\n"
          ]
        },
        {
          "output_type": "stream",
          "name": "stdout",
          "text": [
            "Processing frame ...\n",
            "Processing frame ...\n",
            "Processing frame ...\n",
            "Processing frame ...\n",
            "Processing frame ...\n",
            "Processing frame ...\n",
            "Processing frame ...\n"
          ]
        }
      ]
    }
  ]
}